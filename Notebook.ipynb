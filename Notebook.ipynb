# %% [markdown]
# **For this assignment, we will explore and cluster the neighborhoods in Toronto.**
# 
# [Hints for scraping Notebook](https://cf-courses-data.s3.us.cloud-object-storage.appdomain.cloud/IBMDeveloperSkillsNetwork-DS0701EN-SkillsNetwork/labs_v1/NewLinkWebscrapingHints.md)

# %% [markdown]
# Lets import all the libraries well need

# %% [code] {"execution":{"iopub.status.busy":"2021-08-01T11:26:22.381954Z","iopub.execute_input":"2021-08-01T11:26:22.382364Z","iopub.status.idle":"2021-08-01T11:26:22.386828Z","shell.execute_reply.started":"2021-08-01T11:26:22.382329Z","shell.execute_reply":"2021-08-01T11:26:22.385858Z"}}
import pandas as pd
from bs4 import BeautifulSoup
import requests

# %% [code] {"execution":{"iopub.status.busy":"2021-08-01T11:26:56.318999Z","iopub.execute_input":"2021-08-01T11:26:56.319523Z","iopub.status.idle":"2021-08-01T11:26:56.324018Z","shell.execute_reply.started":"2021-08-01T11:26:56.319477Z","shell.execute_reply":"2021-08-01T11:26:56.323163Z"}}
linkpost= "https://en.wikipedia.org/w/index.php?title=List_of_postal_codes_of_Canada:_M&direction=prev&oldid=926287641%20%20%20Me%20gusta%203%20%20Responder%203%20%20M%C3%A1s"

# %% [code] {"execution":{"iopub.status.busy":"2021-08-01T11:30:00.679332Z","iopub.execute_input":"2021-08-01T11:30:00.679761Z","iopub.status.idle":"2021-08-01T11:30:01.413908Z","shell.execute_reply.started":"2021-08-01T11:30:00.679715Z","shell.execute_reply":"2021-08-01T11:30:01.412839Z"}}
page = requests.get(linkpost)
soup = BeautifulSoup(page.content, 'html.parser')

table_contents=[]
table=soup.find('table')
for row in table.findAll('td'):
    cell = {}
    if row.span.text=='Not assigned':
        pass
    else:
        cell['PostalCode'] = row.p.text[:3]
        cell['Borough'] = (row.span.text).split('(')[0]
        cell['Neighborhood'] = (((((row.span.text).split('(')[1]).strip(')')).replace(' /',',')).replace(')',' ')).strip(' ')
        table_contents.append(cell)

# print(table_contents)
df=pd.DataFrame(table_contents)
df['Borough']=df['Borough'].replace({'Downtown TorontoStn A PO Boxes25 The Esplanade':'Downtown Toronto Stn A',
                                             'East TorontoBusiness reply mail Processing Centre969 Eastern':'East Toronto Business',
                                             'EtobicokeNorthwest':'Etobicoke Northwest','East YorkEast Toronto':'East York/East Toronto',
                                             'MississaugaCanada Post Gateway Processing Centre':'Mississauga'})

# %% [code] {"execution":{"iopub.status.busy":"2021-08-01T11:51:25.790841Z","iopub.execute_input":"2021-08-01T11:51:25.791282Z","iopub.status.idle":"2021-08-01T11:51:25.815831Z","shell.execute_reply.started":"2021-08-01T11:51:25.791247Z","shell.execute_reply":"2021-08-01T11:51:25.814916Z"}}
df

# %% [code] {"execution":{"iopub.status.busy":"2021-08-01T11:51:28.689993Z","iopub.execute_input":"2021-08-01T11:51:28.690500Z","iopub.status.idle":"2021-08-01T11:51:28.697586Z","shell.execute_reply.started":"2021-08-01T11:51:28.690465Z","shell.execute_reply":"2021-08-01T11:51:28.696453Z"}}
df.shape

# %% [code]
